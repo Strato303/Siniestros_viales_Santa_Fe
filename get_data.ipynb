{
  "nbformat": 4,
  "nbformat_minor": 0,
  "metadata": {
    "colab": {
      "provenance": [],
      "authorship_tag": "ABX9TyPD1OU2MZMnKWGmRYzJQBpk",
      "include_colab_link": true
    },
    "kernelspec": {
      "name": "python3",
      "display_name": "Python 3"
    },
    "language_info": {
      "name": "python"
    }
  },
  "cells": [
    {
      "cell_type": "markdown",
      "metadata": {
        "id": "view-in-github",
        "colab_type": "text"
      },
      "source": [
        "<a href=\"https://colab.research.google.com/github/Strato303/Siniestros_viales_Santa_Fe/blob/main/get_data.ipynb\" target=\"_parent\"><img src=\"https://colab.research.google.com/assets/colab-badge.svg\" alt=\"Open In Colab\"/></a>"
      ]
    },
    {
      "cell_type": "markdown",
      "source": [
        "# SINIESTROS VIALES SANTA FE"
      ],
      "metadata": {
        "id": "NbMX-7MWr_it"
      }
    },
    {
      "cell_type": "markdown",
      "source": [
        "En este proyecto se busca realizar la descarga automatica de la informacion desde la web oficial del observatorio vial de Santa Fe (al momento disponible de 2012 a 2020).\n",
        "https://datos.santafe.gob.ar/dataset/observatorio-vial\n",
        "Ademas se realizara un analisis exploratorio de los datos conjuntamente con una limpieza de los mismos."
      ],
      "metadata": {
        "id": "DEG81XedsGO9"
      }
    },
    {
      "cell_type": "markdown",
      "source": [
        "# DESCARGA Y DESCOMPRESION DE INFORMACION"
      ],
      "metadata": {
        "id": "E1xqbKAQrs4C"
      }
    },
    {
      "cell_type": "markdown",
      "source": [
        "DESCARGA\n",
        "Para realizar la descarga de los ficheros se realiza en scrap a la url del observatorios para obtener todos los link que nos den acceso a los documentos necesarios que se encuentran en formato \".csv\" y \".zip\".\n",
        "Los archivos de formato \".zip\" se descomprimiran y  se dejaran en las mismas condiciones que los \".csv\" para luego consolidarlos en un solo DATAFRAME."
      ],
      "metadata": {
        "id": "GYY43GsGr1lq"
      }
    },
    {
      "cell_type": "code",
      "execution_count": null,
      "metadata": {
        "id": "esxFvQ2g16R8"
      },
      "outputs": [],
      "source": [
        "# Se importan las librerias.\n",
        "import requests as rq\n",
        "import zipfile\n",
        "from bs4 import BeautifulSoup\n",
        "import os"
      ]
    },
    {
      "cell_type": "code",
      "source": [
        "# Se realiza el scrap a la web, se parsea el documento obtenido y se ejecuta la depuracion de los datos que no son necesarios. \n",
        "url = 'https://datos.santafe.gob.ar/dataset/observatorio-vial'\n",
        "response = rq.get(url)\n",
        "soup = BeautifulSoup(response.text, 'html.parser')\n",
        "\n",
        "links_descarga = []\n",
        "\n",
        "links = soup.find_all('a')\n",
        "for link in links:\n",
        "    href = link.get('href')\n",
        "    if href and (href.endswith('.zip') or href.endswith('.csv')):\n",
        "        links_descarga.append(href)"
      ],
      "metadata": {
        "id": "JwF1EJ7YMabu"
      },
      "execution_count": null,
      "outputs": []
    },
    {
      "cell_type": "code",
      "source": [
        "# Se definen funciones para facilitar la lectura y el trabajo.\n",
        "\n",
        "# La funcion de descarga realiza la peticion a la URL y luego se encarga del guardado en disco.\n",
        "# Para los ficheros \".zip\" esta funcion realiza la descompresion y luego el borrado del fichero \".zip\"\n",
        "def descarga (link,ext):\n",
        "    \n",
        "    year= link[-8:-4]\n",
        "    file_ = rq.get(link)\n",
        "    \n",
        "    if ext == \".zip\":\n",
        "        guardar(file_,year,ext)\n",
        "        extraccion(f\"siniestros-viales-{year}{ext}\")\n",
        "        os.remove(f\"siniestros-viales-{year}{ext}\")\n",
        "    \n",
        "    if ext ==\".csv\":\n",
        "        guardar (file_,year,ext)\n",
        "\n",
        "def extraccion (file_zip):\n",
        "    with zipfile.ZipFile(file_zip, 'r') as zip_ref:\n",
        "        zip_ref.extractall('.')\n",
        "\n",
        "def guardar (filecsv,year,ext):\n",
        "    open(f\"siniestros-viales-{year}{ext}\", \"wb\").write(filecsv.content)\n"
      ],
      "metadata": {
        "id": "TcXErMHrZNyS"
      },
      "execution_count": null,
      "outputs": []
    },
    {
      "cell_type": "code",
      "source": [
        "# Se utiliza un bucle for para iterar la lista de links y aplicar la funcion de descarga.\n",
        "for link in links_descarga:\n",
        "    if link.endswith('.zip'):\n",
        "        descarga (link,'.zip')\n",
        "    else :\n",
        "        descarga (link,'.csv')"
      ],
      "metadata": {
        "id": "-M4YL2u919Qf"
      },
      "execution_count": null,
      "outputs": []
    },
    {
      "cell_type": "markdown",
      "source": [
        "# ANALISIS EXPLORATORIO \n",
        "os datos)"
      ],
      "metadata": {
        "id": "Wco3UsYPtJ12"
      }
    },
    {
      "cell_type": "markdown",
      "source": [
        "Se importa la libreria pandas y se consolidan todos los archivos \".csv\" en un solo DATAFRAME."
      ],
      "metadata": {
        "id": "uwpaBK4xDvqX"
      }
    },
    {
      "cell_type": "code",
      "source": [
        "# Se trabajara con pandas por lo que se importa esta libreria y se crea un DATAFRAME unificando todos los documentos.\n",
        "import pandas as pd\n",
        "\n",
        "ficheros = os.listdir()\n",
        "co = 0\n",
        "for fichero in ficheros:\n",
        "    if fichero.endswith(\".csv\"):\n",
        "        csv = pd.read_csv(fichero)\n",
        "        \n",
        "        if co == 0:\n",
        "            df = csv\n",
        "            co =+ 1\n",
        "            \n",
        "        else :\n",
        "            df = pd.concat([df,csv], axis=0)\n",
        "            \n"
      ],
      "metadata": {
        "id": "O7Wmi2Es4T_P",
        "colab": {
          "base_uri": "https://localhost:8080/"
        },
        "outputId": "2666d701-fc25-4645-f519-1c8ef2e1122e"
      },
      "execution_count": null,
      "outputs": [
        {
          "output_type": "stream",
          "name": "stderr",
          "text": [
            "<ipython-input-26-c305170fc665>:8: DtypeWarning: Columns (19,37) have mixed types. Specify dtype option on import or set low_memory=False.\n",
            "  csv = pd.read_csv(fichero)\n"
          ]
        }
      ]
    },
    {
      "cell_type": "code",
      "source": [
        "print(\"Cantidad de datos: \",df.size)\n",
        "print(\"Forma DATAFRAME: \",df.shape)\n",
        "print(\"Columnas: \",df.columns)"
      ],
      "metadata": {
        "id": "2-wns0o5DeE4",
        "colab": {
          "base_uri": "https://localhost:8080/"
        },
        "outputId": "4c9473e5-e278-4b32-dab6-8fc664b4beb8"
      },
      "execution_count": null,
      "outputs": [
        {
          "output_type": "stream",
          "name": "stdout",
          "text": [
            "Cantidad de datos:  9296428\n",
            "Forma DATAFRAME:  (216196, 43)\n",
            "Columnas:  Index(['anio_acci', 'nro_acci', 'fecha', 'desc_dia', 'fecha_aprox',\n",
            "       'hora_aprox', 'desc_ruta', 'km', 'cant_participantes',\n",
            "       'desc_participante', 'calle_avenida_km', 'total', 'heridos_leves',\n",
            "       'heridos_graves', 'heridos_gravisimos', 'ilesos', 'fallecidos',\n",
            "       'sin_datos', 'posicion_XY', 'desc_tipo_via', 'desc_ruta_ori',\n",
            "       'desc_loc', 'desc_dpto', 'desc_tipo_calzada', 'desc_tipo_banquina',\n",
            "       'desc_unidad_regional', 'desc_lugar_calzada', 'desc_zona',\n",
            "       'desc_prioridad', 'desc_estado_semaforo', 'desc_lugar_via',\n",
            "       'desc_estado_via', 'desc_estado_visibilidad', 'desc_luminosidad',\n",
            "       'desc_estado_clima', 'desc_tipo_colision', 'desc_tipo_atropello',\n",
            "       'desc_tipo_hecho', 'desc_pres_calzada', 'desc_senializacion',\n",
            "       'desc_separacion_via', 'desc_restriccion', 'Unnamed: 0'],\n",
            "      dtype='object')\n"
          ]
        }
      ]
    },
    {
      "cell_type": "code",
      "source": [
        "df.describe()"
      ],
      "metadata": {
        "id": "sVX-n3oNEyK2",
        "colab": {
          "base_uri": "https://localhost:8080/",
          "height": 364
        },
        "outputId": "23262b7d-8ca5-4303-a029-652a0774be10"
      },
      "execution_count": null,
      "outputs": [
        {
          "output_type": "execute_result",
          "data": {
            "text/plain": [
              "           anio_acci       nro_acci    fecha_aprox             km  \\\n",
              "count  216196.000000  216196.000000  173708.000000  216196.000000   \n",
              "mean     2015.605821    6392.290496       0.005619      18.725721   \n",
              "std         2.664485    4047.864465       0.074747      95.820646   \n",
              "min      2012.000000       1.000000       0.000000       0.000000   \n",
              "25%      2013.000000    3044.000000       0.000000       0.000000   \n",
              "50%      2015.000000    6098.500000       0.000000       0.000000   \n",
              "75%      2018.000000    9175.000000       0.000000       0.000000   \n",
              "max      2020.000000   17727.000000       1.000000     999.900000   \n",
              "\n",
              "       cant_participantes          total  heridos_leves  heridos_graves  \\\n",
              "count       216196.000000  216196.000000  216196.000000   216196.000000   \n",
              "mean             1.870294       2.352550       1.158282        0.116182   \n",
              "std              0.426448       1.417818       0.836038        0.366399   \n",
              "min              1.000000       1.000000       0.000000        0.000000   \n",
              "25%              2.000000       2.000000       1.000000        0.000000   \n",
              "50%              2.000000       2.000000       1.000000        0.000000   \n",
              "75%              2.000000       3.000000       1.000000        0.000000   \n",
              "max             14.000000      76.000000      60.000000       21.000000   \n",
              "\n",
              "       heridos_gravisimos         ilesos     fallecidos      sin_datos  \\\n",
              "count       216196.000000  216196.000000  216196.000000  216196.000000   \n",
              "mean             0.005403       0.911321       0.046439       0.114923   \n",
              "std              0.078425       1.147749       0.248008       0.438648   \n",
              "min              0.000000      -1.000000       0.000000      -1.000000   \n",
              "25%              0.000000       0.000000       0.000000       0.000000   \n",
              "50%              0.000000       1.000000       0.000000       0.000000   \n",
              "75%              0.000000       1.000000       0.000000       0.000000   \n",
              "max              3.000000      68.000000      13.000000      50.000000   \n",
              "\n",
              "          Unnamed: 0  \n",
              "count  108098.000000  \n",
              "mean     6287.842717  \n",
              "std      3979.618904  \n",
              "min         0.000000  \n",
              "25%      3002.000000  \n",
              "50%      6005.000000  \n",
              "75%      9024.000000  \n",
              "max     17477.000000  "
            ],
            "text/html": [
              "\n",
              "  <div id=\"df-c7141ed3-8cd7-4a65-8ed1-8940c9d300e4\">\n",
              "    <div class=\"colab-df-container\">\n",
              "      <div>\n",
              "<style scoped>\n",
              "    .dataframe tbody tr th:only-of-type {\n",
              "        vertical-align: middle;\n",
              "    }\n",
              "\n",
              "    .dataframe tbody tr th {\n",
              "        vertical-align: top;\n",
              "    }\n",
              "\n",
              "    .dataframe thead th {\n",
              "        text-align: right;\n",
              "    }\n",
              "</style>\n",
              "<table border=\"1\" class=\"dataframe\">\n",
              "  <thead>\n",
              "    <tr style=\"text-align: right;\">\n",
              "      <th></th>\n",
              "      <th>anio_acci</th>\n",
              "      <th>nro_acci</th>\n",
              "      <th>fecha_aprox</th>\n",
              "      <th>km</th>\n",
              "      <th>cant_participantes</th>\n",
              "      <th>total</th>\n",
              "      <th>heridos_leves</th>\n",
              "      <th>heridos_graves</th>\n",
              "      <th>heridos_gravisimos</th>\n",
              "      <th>ilesos</th>\n",
              "      <th>fallecidos</th>\n",
              "      <th>sin_datos</th>\n",
              "      <th>Unnamed: 0</th>\n",
              "    </tr>\n",
              "  </thead>\n",
              "  <tbody>\n",
              "    <tr>\n",
              "      <th>count</th>\n",
              "      <td>216196.000000</td>\n",
              "      <td>216196.000000</td>\n",
              "      <td>173708.000000</td>\n",
              "      <td>216196.000000</td>\n",
              "      <td>216196.000000</td>\n",
              "      <td>216196.000000</td>\n",
              "      <td>216196.000000</td>\n",
              "      <td>216196.000000</td>\n",
              "      <td>216196.000000</td>\n",
              "      <td>216196.000000</td>\n",
              "      <td>216196.000000</td>\n",
              "      <td>216196.000000</td>\n",
              "      <td>108098.000000</td>\n",
              "    </tr>\n",
              "    <tr>\n",
              "      <th>mean</th>\n",
              "      <td>2015.605821</td>\n",
              "      <td>6392.290496</td>\n",
              "      <td>0.005619</td>\n",
              "      <td>18.725721</td>\n",
              "      <td>1.870294</td>\n",
              "      <td>2.352550</td>\n",
              "      <td>1.158282</td>\n",
              "      <td>0.116182</td>\n",
              "      <td>0.005403</td>\n",
              "      <td>0.911321</td>\n",
              "      <td>0.046439</td>\n",
              "      <td>0.114923</td>\n",
              "      <td>6287.842717</td>\n",
              "    </tr>\n",
              "    <tr>\n",
              "      <th>std</th>\n",
              "      <td>2.664485</td>\n",
              "      <td>4047.864465</td>\n",
              "      <td>0.074747</td>\n",
              "      <td>95.820646</td>\n",
              "      <td>0.426448</td>\n",
              "      <td>1.417818</td>\n",
              "      <td>0.836038</td>\n",
              "      <td>0.366399</td>\n",
              "      <td>0.078425</td>\n",
              "      <td>1.147749</td>\n",
              "      <td>0.248008</td>\n",
              "      <td>0.438648</td>\n",
              "      <td>3979.618904</td>\n",
              "    </tr>\n",
              "    <tr>\n",
              "      <th>min</th>\n",
              "      <td>2012.000000</td>\n",
              "      <td>1.000000</td>\n",
              "      <td>0.000000</td>\n",
              "      <td>0.000000</td>\n",
              "      <td>1.000000</td>\n",
              "      <td>1.000000</td>\n",
              "      <td>0.000000</td>\n",
              "      <td>0.000000</td>\n",
              "      <td>0.000000</td>\n",
              "      <td>-1.000000</td>\n",
              "      <td>0.000000</td>\n",
              "      <td>-1.000000</td>\n",
              "      <td>0.000000</td>\n",
              "    </tr>\n",
              "    <tr>\n",
              "      <th>25%</th>\n",
              "      <td>2013.000000</td>\n",
              "      <td>3044.000000</td>\n",
              "      <td>0.000000</td>\n",
              "      <td>0.000000</td>\n",
              "      <td>2.000000</td>\n",
              "      <td>2.000000</td>\n",
              "      <td>1.000000</td>\n",
              "      <td>0.000000</td>\n",
              "      <td>0.000000</td>\n",
              "      <td>0.000000</td>\n",
              "      <td>0.000000</td>\n",
              "      <td>0.000000</td>\n",
              "      <td>3002.000000</td>\n",
              "    </tr>\n",
              "    <tr>\n",
              "      <th>50%</th>\n",
              "      <td>2015.000000</td>\n",
              "      <td>6098.500000</td>\n",
              "      <td>0.000000</td>\n",
              "      <td>0.000000</td>\n",
              "      <td>2.000000</td>\n",
              "      <td>2.000000</td>\n",
              "      <td>1.000000</td>\n",
              "      <td>0.000000</td>\n",
              "      <td>0.000000</td>\n",
              "      <td>1.000000</td>\n",
              "      <td>0.000000</td>\n",
              "      <td>0.000000</td>\n",
              "      <td>6005.000000</td>\n",
              "    </tr>\n",
              "    <tr>\n",
              "      <th>75%</th>\n",
              "      <td>2018.000000</td>\n",
              "      <td>9175.000000</td>\n",
              "      <td>0.000000</td>\n",
              "      <td>0.000000</td>\n",
              "      <td>2.000000</td>\n",
              "      <td>3.000000</td>\n",
              "      <td>1.000000</td>\n",
              "      <td>0.000000</td>\n",
              "      <td>0.000000</td>\n",
              "      <td>1.000000</td>\n",
              "      <td>0.000000</td>\n",
              "      <td>0.000000</td>\n",
              "      <td>9024.000000</td>\n",
              "    </tr>\n",
              "    <tr>\n",
              "      <th>max</th>\n",
              "      <td>2020.000000</td>\n",
              "      <td>17727.000000</td>\n",
              "      <td>1.000000</td>\n",
              "      <td>999.900000</td>\n",
              "      <td>14.000000</td>\n",
              "      <td>76.000000</td>\n",
              "      <td>60.000000</td>\n",
              "      <td>21.000000</td>\n",
              "      <td>3.000000</td>\n",
              "      <td>68.000000</td>\n",
              "      <td>13.000000</td>\n",
              "      <td>50.000000</td>\n",
              "      <td>17477.000000</td>\n",
              "    </tr>\n",
              "  </tbody>\n",
              "</table>\n",
              "</div>\n",
              "      <button class=\"colab-df-convert\" onclick=\"convertToInteractive('df-c7141ed3-8cd7-4a65-8ed1-8940c9d300e4')\"\n",
              "              title=\"Convert this dataframe to an interactive table.\"\n",
              "              style=\"display:none;\">\n",
              "        \n",
              "  <svg xmlns=\"http://www.w3.org/2000/svg\" height=\"24px\"viewBox=\"0 0 24 24\"\n",
              "       width=\"24px\">\n",
              "    <path d=\"M0 0h24v24H0V0z\" fill=\"none\"/>\n",
              "    <path d=\"M18.56 5.44l.94 2.06.94-2.06 2.06-.94-2.06-.94-.94-2.06-.94 2.06-2.06.94zm-11 1L8.5 8.5l.94-2.06 2.06-.94-2.06-.94L8.5 2.5l-.94 2.06-2.06.94zm10 10l.94 2.06.94-2.06 2.06-.94-2.06-.94-.94-2.06-.94 2.06-2.06.94z\"/><path d=\"M17.41 7.96l-1.37-1.37c-.4-.4-.92-.59-1.43-.59-.52 0-1.04.2-1.43.59L10.3 9.45l-7.72 7.72c-.78.78-.78 2.05 0 2.83L4 21.41c.39.39.9.59 1.41.59.51 0 1.02-.2 1.41-.59l7.78-7.78 2.81-2.81c.8-.78.8-2.07 0-2.86zM5.41 20L4 18.59l7.72-7.72 1.47 1.35L5.41 20z\"/>\n",
              "  </svg>\n",
              "      </button>\n",
              "      \n",
              "  <style>\n",
              "    .colab-df-container {\n",
              "      display:flex;\n",
              "      flex-wrap:wrap;\n",
              "      gap: 12px;\n",
              "    }\n",
              "\n",
              "    .colab-df-convert {\n",
              "      background-color: #E8F0FE;\n",
              "      border: none;\n",
              "      border-radius: 50%;\n",
              "      cursor: pointer;\n",
              "      display: none;\n",
              "      fill: #1967D2;\n",
              "      height: 32px;\n",
              "      padding: 0 0 0 0;\n",
              "      width: 32px;\n",
              "    }\n",
              "\n",
              "    .colab-df-convert:hover {\n",
              "      background-color: #E2EBFA;\n",
              "      box-shadow: 0px 1px 2px rgba(60, 64, 67, 0.3), 0px 1px 3px 1px rgba(60, 64, 67, 0.15);\n",
              "      fill: #174EA6;\n",
              "    }\n",
              "\n",
              "    [theme=dark] .colab-df-convert {\n",
              "      background-color: #3B4455;\n",
              "      fill: #D2E3FC;\n",
              "    }\n",
              "\n",
              "    [theme=dark] .colab-df-convert:hover {\n",
              "      background-color: #434B5C;\n",
              "      box-shadow: 0px 1px 3px 1px rgba(0, 0, 0, 0.15);\n",
              "      filter: drop-shadow(0px 1px 2px rgba(0, 0, 0, 0.3));\n",
              "      fill: #FFFFFF;\n",
              "    }\n",
              "  </style>\n",
              "\n",
              "      <script>\n",
              "        const buttonEl =\n",
              "          document.querySelector('#df-c7141ed3-8cd7-4a65-8ed1-8940c9d300e4 button.colab-df-convert');\n",
              "        buttonEl.style.display =\n",
              "          google.colab.kernel.accessAllowed ? 'block' : 'none';\n",
              "\n",
              "        async function convertToInteractive(key) {\n",
              "          const element = document.querySelector('#df-c7141ed3-8cd7-4a65-8ed1-8940c9d300e4');\n",
              "          const dataTable =\n",
              "            await google.colab.kernel.invokeFunction('convertToInteractive',\n",
              "                                                     [key], {});\n",
              "          if (!dataTable) return;\n",
              "\n",
              "          const docLinkHtml = 'Like what you see? Visit the ' +\n",
              "            '<a target=\"_blank\" href=https://colab.research.google.com/notebooks/data_table.ipynb>data table notebook</a>'\n",
              "            + ' to learn more about interactive tables.';\n",
              "          element.innerHTML = '';\n",
              "          dataTable['output_type'] = 'display_data';\n",
              "          await google.colab.output.renderOutput(dataTable, element);\n",
              "          const docLink = document.createElement('div');\n",
              "          docLink.innerHTML = docLinkHtml;\n",
              "          element.appendChild(docLink);\n",
              "        }\n",
              "      </script>\n",
              "    </div>\n",
              "  </div>\n",
              "  "
            ]
          },
          "metadata": {},
          "execution_count": 28
        }
      ]
    },
    {
      "cell_type": "code",
      "source": [
        "df.info()"
      ],
      "metadata": {
        "id": "wuTz0ctx5oQO",
        "colab": {
          "base_uri": "https://localhost:8080/"
        },
        "outputId": "1319c3f4-deea-4e0d-b4d6-022281c62e70"
      },
      "execution_count": null,
      "outputs": [
        {
          "output_type": "stream",
          "name": "stdout",
          "text": [
            "<class 'pandas.core.frame.DataFrame'>\n",
            "Int64Index: 216196 entries, 0 to 11167\n",
            "Data columns (total 43 columns):\n",
            " #   Column                   Non-Null Count   Dtype  \n",
            "---  ------                   --------------   -----  \n",
            " 0   anio_acci                216196 non-null  int64  \n",
            " 1   nro_acci                 216196 non-null  int64  \n",
            " 2   fecha                    216196 non-null  object \n",
            " 3   desc_dia                 216196 non-null  object \n",
            " 4   fecha_aprox              173708 non-null  float64\n",
            " 5   hora_aprox               195538 non-null  object \n",
            " 6   desc_ruta                35124 non-null   object \n",
            " 7   km                       216196 non-null  float64\n",
            " 8   cant_participantes       216196 non-null  int64  \n",
            " 9   desc_participante        215588 non-null  object \n",
            " 10  calle_avenida_km         215010 non-null  object \n",
            " 11  total                    216196 non-null  int64  \n",
            " 12  heridos_leves            216196 non-null  int64  \n",
            " 13  heridos_graves           216196 non-null  int64  \n",
            " 14  heridos_gravisimos       216196 non-null  int64  \n",
            " 15  ilesos                   216196 non-null  int64  \n",
            " 16  fallecidos               216196 non-null  int64  \n",
            " 17  sin_datos                216196 non-null  int64  \n",
            " 18  posicion_XY              71872 non-null   object \n",
            " 19  desc_tipo_via            207303 non-null  object \n",
            " 20  desc_ruta_ori            35124 non-null   object \n",
            " 21  desc_loc                 216196 non-null  object \n",
            " 22  desc_dpto                216196 non-null  object \n",
            " 23  desc_tipo_calzada        199347 non-null  object \n",
            " 24  desc_tipo_banquina       183615 non-null  object \n",
            " 25  desc_unidad_regional     216196 non-null  object \n",
            " 26  desc_lugar_calzada       185044 non-null  object \n",
            " 27  desc_zona                206529 non-null  object \n",
            " 28  desc_prioridad           176986 non-null  object \n",
            " 29  desc_estado_semaforo     184301 non-null  object \n",
            " 30  desc_lugar_via           204862 non-null  object \n",
            " 31  desc_estado_via          190341 non-null  object \n",
            " 32  desc_estado_visibilidad  186274 non-null  object \n",
            " 33  desc_luminosidad         202937 non-null  object \n",
            " 34  desc_estado_clima        185654 non-null  object \n",
            " 35  desc_tipo_colision       172451 non-null  object \n",
            " 36  desc_tipo_atropello      115677 non-null  object \n",
            " 37  desc_tipo_hecho          210618 non-null  object \n",
            " 38  desc_pres_calzada        152656 non-null  object \n",
            " 39  desc_senializacion       171464 non-null  object \n",
            " 40  desc_separacion_via      178171 non-null  object \n",
            " 41  desc_restriccion         180049 non-null  object \n",
            " 42  Unnamed: 0               108098 non-null  float64\n",
            "dtypes: float64(3), int64(10), object(30)\n",
            "memory usage: 72.6+ MB\n"
          ]
        }
      ]
    },
    {
      "cell_type": "code",
      "source": [
        "# Se verifican la cantidad de valores nulos en cada columna\n",
        "df.isnull().sum()"
      ],
      "metadata": {
        "id": "mml8Upb_4R-U",
        "colab": {
          "base_uri": "https://localhost:8080/"
        },
        "outputId": "66dcd201-35fe-4d00-ac70-9636dc3b2ffb"
      },
      "execution_count": null,
      "outputs": [
        {
          "output_type": "execute_result",
          "data": {
            "text/plain": [
              "anio_acci                       0\n",
              "nro_acci                        0\n",
              "fecha                           0\n",
              "desc_dia                        0\n",
              "fecha_aprox                 42488\n",
              "hora_aprox                  20658\n",
              "desc_ruta                  181072\n",
              "km                              0\n",
              "cant_participantes              0\n",
              "desc_participante             608\n",
              "calle_avenida_km             1186\n",
              "total                           0\n",
              "heridos_leves                   0\n",
              "heridos_graves                  0\n",
              "heridos_gravisimos              0\n",
              "ilesos                          0\n",
              "fallecidos                      0\n",
              "sin_datos                       0\n",
              "posicion_XY                144324\n",
              "desc_tipo_via                8893\n",
              "desc_ruta_ori              181072\n",
              "desc_loc                        0\n",
              "desc_dpto                       0\n",
              "desc_tipo_calzada           16849\n",
              "desc_tipo_banquina          32581\n",
              "desc_unidad_regional            0\n",
              "desc_lugar_calzada          31152\n",
              "desc_zona                    9667\n",
              "desc_prioridad              39210\n",
              "desc_estado_semaforo        31895\n",
              "desc_lugar_via              11334\n",
              "desc_estado_via             25855\n",
              "desc_estado_visibilidad     29922\n",
              "desc_luminosidad            13259\n",
              "desc_estado_clima           30542\n",
              "desc_tipo_colision          43745\n",
              "desc_tipo_atropello        100519\n",
              "desc_tipo_hecho              5578\n",
              "desc_pres_calzada           63540\n",
              "desc_senializacion          44732\n",
              "desc_separacion_via         38025\n",
              "desc_restriccion            36147\n",
              "Unnamed: 0                 108098\n",
              "dtype: int64"
            ]
          },
          "metadata": {},
          "execution_count": 30
        }
      ]
    },
    {
      "cell_type": "code",
      "source": [
        "# Se reemplazan textos de valores nulos y se unifican en NAN\n",
        "import numpy as np\n",
        "\n",
        "df.replace(\"nan\",np.NAN, inplace=True)\n",
        "df.replace(\"nan \",np.NAN, inplace=True)\n",
        "df.replace(\"S/D\",np.NAN, inplace=True)"
      ],
      "metadata": {
        "id": "ZMFAlCuR8z0E"
      },
      "execution_count": null,
      "outputs": []
    },
    {
      "cell_type": "code",
      "source": [
        "# Se verifican la cantidad de valores nulos en cada columna luego de la limpieza\n",
        "df.isnull().sum()"
      ],
      "metadata": {
        "id": "bCA6U6O781z0",
        "colab": {
          "base_uri": "https://localhost:8080/"
        },
        "outputId": "0ee5bd3d-3b23-4ca7-b126-b5d9b8f1cad4"
      },
      "execution_count": null,
      "outputs": [
        {
          "output_type": "execute_result",
          "data": {
            "text/plain": [
              "anio_acci                       0\n",
              "nro_acci                        0\n",
              "fecha                           0\n",
              "desc_dia                        0\n",
              "fecha_aprox                 42488\n",
              "hora_aprox                  20658\n",
              "desc_ruta                  181072\n",
              "km                              0\n",
              "cant_participantes              0\n",
              "desc_participante             608\n",
              "calle_avenida_km             1186\n",
              "total                           0\n",
              "heridos_leves                   0\n",
              "heridos_graves                  0\n",
              "heridos_gravisimos              0\n",
              "ilesos                          0\n",
              "fallecidos                      0\n",
              "sin_datos                       0\n",
              "posicion_XY                144324\n",
              "desc_tipo_via               17786\n",
              "desc_ruta_ori              181072\n",
              "desc_loc                        0\n",
              "desc_dpto                       0\n",
              "desc_tipo_calzada           33698\n",
              "desc_tipo_banquina          65162\n",
              "desc_unidad_regional            0\n",
              "desc_lugar_calzada          62304\n",
              "desc_zona                   19334\n",
              "desc_prioridad              78420\n",
              "desc_estado_semaforo        63790\n",
              "desc_lugar_via              22668\n",
              "desc_estado_via             51710\n",
              "desc_estado_visibilidad     59844\n",
              "desc_luminosidad            26518\n",
              "desc_estado_clima           61084\n",
              "desc_tipo_colision          87490\n",
              "desc_tipo_atropello        201038\n",
              "desc_tipo_hecho             11156\n",
              "desc_pres_calzada          127080\n",
              "desc_senializacion          89464\n",
              "desc_separacion_via         76050\n",
              "desc_restriccion            72294\n",
              "Unnamed: 0                 108098\n",
              "dtype: int64"
            ]
          },
          "metadata": {},
          "execution_count": 32
        }
      ]
    },
    {
      "cell_type": "code",
      "source": [
        "# Cantidad de valores unicos por columna\n",
        "df.nunique()"
      ],
      "metadata": {
        "colab": {
          "base_uri": "https://localhost:8080/"
        },
        "id": "pB-nddoVgMKI",
        "outputId": "9dfd09ae-42dc-4301-d795-fb0b51cb20d9"
      },
      "execution_count": null,
      "outputs": [
        {
          "output_type": "execute_result",
          "data": {
            "text/plain": [
              "anio_acci                      9\n",
              "nro_acci                   17700\n",
              "fecha                       5099\n",
              "desc_dia                       7\n",
              "fecha_aprox                    2\n",
              "hora_aprox                  1265\n",
              "desc_ruta                    218\n",
              "km                          1378\n",
              "cant_participantes            12\n",
              "desc_participante            910\n",
              "calle_avenida_km           46807\n",
              "total                         57\n",
              "heridos_leves                 28\n",
              "heridos_graves                 9\n",
              "heridos_gravisimos             4\n",
              "ilesos                        54\n",
              "fallecidos                    10\n",
              "sin_datos                     12\n",
              "posicion_XY                30393\n",
              "desc_tipo_via                  7\n",
              "desc_ruta_ori                161\n",
              "desc_loc                     936\n",
              "desc_dpto                     28\n",
              "desc_tipo_calzada             22\n",
              "desc_tipo_banquina             5\n",
              "desc_unidad_regional          19\n",
              "desc_lugar_calzada             2\n",
              "desc_zona                      2\n",
              "desc_prioridad                 9\n",
              "desc_estado_semaforo           4\n",
              "desc_lugar_via                11\n",
              "desc_estado_via               26\n",
              "desc_estado_visibilidad        8\n",
              "desc_luminosidad               9\n",
              "desc_estado_clima              7\n",
              "desc_tipo_colision            40\n",
              "desc_tipo_atropello            3\n",
              "desc_tipo_hecho               79\n",
              "desc_pres_calzada             15\n",
              "desc_senializacion             4\n",
              "desc_separacion_via           61\n",
              "desc_restriccion              15\n",
              "Unnamed: 0                 17478\n",
              "dtype: int64"
            ]
          },
          "metadata": {},
          "execution_count": 33
        }
      ]
    },
    {
      "cell_type": "code",
      "source": [
        "# Se verifica si existen filas duplicadas\n",
        "df.duplicated().value_counts()"
      ],
      "metadata": {
        "id": "7YwpJ-8M5eVd",
        "colab": {
          "base_uri": "https://localhost:8080/"
        },
        "outputId": "be07dce8-e60c-4c3a-a001-8de3a9644b4d"
      },
      "execution_count": null,
      "outputs": [
        {
          "output_type": "execute_result",
          "data": {
            "text/plain": [
              "False    216196\n",
              "dtype: int64"
            ]
          },
          "metadata": {},
          "execution_count": 34
        }
      ]
    },
    {
      "cell_type": "code",
      "source": [
        "# Se crea una funcion que nos premitira  explorar los valores unicos de las columnas, \n",
        "# para poder determinar si existen iguales valores escritos de diferentes formas. \n",
        "def analisis_col_basico (column):\n",
        "    print(\"Valores Unicos: \",column.nunique())\n",
        "    print(\"Formato de datos: \",column.dtypes)\n",
        "    print(column.unique())\n",
        "\n",
        "def analisis_col_expandido (data_frame,column):\n",
        "    \n",
        "    data_frame = data_frame[column].str.split(',', expand=True)\n",
        "\n",
        "    # Utilizar melt() para convertir las columnas en filas\n",
        "    data_frame = data_frame.melt(var_name='index', value_name=column)\n",
        "\n",
        "    # Eliminar filas con valores nulos y espacios en blanco\n",
        "    data_frame = data_frame.dropna()\n",
        "    data_frame[column] = data_frame[column].str.strip()\n",
        "\n",
        "    # Realizar el análisis deseado en la columna \"participantes\"\n",
        "    # Por ejemplo, contar la cantidad de veces que aparece cada participante\n",
        "    conteo_participantes = data_frame[column].value_counts()\n",
        "\n",
        "    # Mostrar el resultado\n",
        "    print(conteo_participantes)\n",
        "\n",
        "    unicos = conteo_participantes.nunique()\n",
        "    print(\"Valores Unicos:\", unicos)"
      ],
      "metadata": {
        "id": "77BQ5k2TGzT7"
      },
      "execution_count": null,
      "outputs": []
    },
    {
      "cell_type": "code",
      "source": [
        "# analisis_col_basico(df[\"desc_participante\"])\n",
        "analisis_col_expandido(df,\"desc_participante\")"
      ],
      "metadata": {
        "colab": {
          "base_uri": "https://localhost:8080/"
        },
        "id": "96oAkea2NfG7",
        "outputId": "54a09794-de9c-4174-db47-2408902020ab"
      },
      "execution_count": null,
      "outputs": [
        {
          "output_type": "stream",
          "name": "stdout",
          "text": [
            "Moto/Ciclomotor                                           157044\n",
            "Automóvil                                                 145532\n",
            "Pickup/Utilitario                                          31358\n",
            "Bicicleta                                                  21726\n",
            "Peatón                                                     13086\n",
            "Otros                                                       8522\n",
            "Camión                                                      8394\n",
            "Taxi/Remis                                                  6774\n",
            "Transporte de Pasajeros Urbano (> 8 asientos)               3090\n",
            "Camión c / Acoplado                                         2298\n",
            "Camión Chasis                                               1338\n",
            "Vehículo Oficial                                            1216\n",
            "Camión c / Semirremolque                                     592\n",
            "Transporte de Pasajeros Larga Distancia (> 8 asientos)       478\n",
            "Tren                                                         430\n",
            "Tractor                                                      336\n",
            "Tracción animal / Carro                                      276\n",
            "Ambulancia                                                   274\n",
            "Transporte de Pasajeros (H/ 8 asientos)                      212\n",
            "Cuatriciclo                                                  192\n",
            "Transporte de Pasajeros                                      176\n",
            "Transporte de Pasajeros Larga Distancia (Doble Piso)         168\n",
            "Transporte Escolar                                           122\n",
            "Transporte de Pasajeros Larga Distancia (Piso  y  1/2)       108\n",
            "Name: desc_participante, dtype: int64\n",
            "Valores Unicos: 24\n"
          ]
        }
      ]
    },
    {
      "cell_type": "code",
      "source": [],
      "metadata": {
        "id": "gIcmpMo6cX3d"
      },
      "execution_count": null,
      "outputs": []
    },
    {
      "cell_type": "markdown",
      "source": [
        "# LIMPIEZA DE DATOS"
      ],
      "metadata": {
        "id": "FZRrdp_W5_9w"
      }
    },
    {
      "cell_type": "markdown",
      "source": [
        "En esta etapa luego del analisis exploratorio se comienza a limpiar los datos y a unificar valores y formatos de cada columna de forma que los datos queden preparados para ser almacenados en una base de datos y/o analizados en la siguiente etapa."
      ],
      "metadata": {
        "id": "r708ZdPNahSV"
      }
    },
    {
      "cell_type": "markdown",
      "source": [
        "**Modificaciones Columna \"Fecha\"**\n",
        "\n",
        "Se descubrio que el formato de las fechas de cada campo varia entre los archivos pr se mantiene dentro de cada año.\n",
        "\n",
        "Para que el formato de las fechas sea uniforme se realiza sobre este campo la normalizacion del formato de la fecha.\n",
        "\n",
        "2012 - 2015 DD/MM/YYYY\n",
        "\n",
        "2016 - 2017 MM/DD/YYYY \n",
        "\n",
        "2018 - 2020 YYYY-MM-DD\n",
        "\n",
        "Formato definido DD/MM/YYYY"
      ],
      "metadata": {
        "id": "Tu_ZIlV1btn2"
      }
    },
    {
      "cell_type": "code",
      "source": [
        "df['fecha'] = pd.to_datetime(df[\"fecha\"], infer_datetime_format=True)\n",
        "df['fecha'] = df['fecha'].dt.strftime('%d/%m/%Y')\n",
        "df['fecha']"
      ],
      "metadata": {
        "colab": {
          "base_uri": "https://localhost:8080/"
        },
        "id": "3eUoVqqOgcjg",
        "outputId": "a5badc83-3c72-4785-c457-976ec30e4119"
      },
      "execution_count": null,
      "outputs": [
        {
          "output_type": "stream",
          "name": "stderr",
          "text": [
            "<ipython-input-37-15f4bc6647b8>:1: UserWarning: Parsing dates in DD/MM/YYYY format when dayfirst=False (the default) was specified. This may lead to inconsistently parsed dates! Specify a format to ensure consistent parsing.\n",
            "  df['fecha'] = pd.to_datetime(df[\"fecha\"], infer_datetime_format=True)\n"
          ]
        },
        {
          "output_type": "execute_result",
          "data": {
            "text/plain": [
              "0        01/04/2012\n",
              "1        01/05/2012\n",
              "2        01/05/2012\n",
              "3        01/07/2012\n",
              "4        01/08/2012\n",
              "            ...    \n",
              "11163    12/12/2014\n",
              "11164    12/12/2014\n",
              "11165    13/11/2014\n",
              "11166    16/12/2014\n",
              "11167    30/12/2014\n",
              "Name: fecha, Length: 216196, dtype: object"
            ]
          },
          "metadata": {},
          "execution_count": 37
        }
      ]
    },
    {
      "cell_type": "markdown",
      "source": [
        "**Modificaciones Columna \"hora_aprox\"**\n",
        "\n",
        "Se necesita convertir a formato de 24 horas pero se advierte que en algunos casos la hora se encuentra cargadas 24:00:00, por lo que se modifican estos registros y se aplica la conversion."
      ],
      "metadata": {
        "id": "stSmADRJo7bA"
      }
    },
    {
      "cell_type": "code",
      "source": [
        "df['hora_aprox'] = df['hora_aprox'].str.replace('24:00:00', '00:00:00', regex= False)\n",
        "\n",
        "# Formato HH:MM:SS\n",
        "df['hora_aprox'] = pd.to_datetime(df[\"hora_aprox\"],format = '%H:%M:%S').dt.time\n",
        "\n",
        "# Formato datetime\n",
        "# df['hora_aprox'] = pd.to_datetime(df[\"hora_aprox\"],format = '%H:%M:%S')\n",
        "\n",
        "df['hora_aprox']"
      ],
      "metadata": {
        "id": "wBMDjRx_HFqv",
        "colab": {
          "base_uri": "https://localhost:8080/"
        },
        "outputId": "3be00642-cf8f-4200-cbcb-2b9469bda5bc"
      },
      "execution_count": null,
      "outputs": [
        {
          "output_type": "execute_result",
          "data": {
            "text/plain": [
              "0        13:30:00\n",
              "1        12:30:00\n",
              "2        20:15:00\n",
              "3        17:20:00\n",
              "4        20:30:00\n",
              "           ...   \n",
              "11163    16:50:00\n",
              "11164    10:30:00\n",
              "11165    12:30:00\n",
              "11166    07:05:00\n",
              "11167    11:20:00\n",
              "Name: hora_aprox, Length: 216196, dtype: object"
            ]
          },
          "metadata": {},
          "execution_count": 38
        }
      ]
    },
    {
      "cell_type": "markdown",
      "source": [
        "**Modificaciones Columna \"desc_ruta\"**\n",
        "\n",
        "Se descubrieron errores en acentos por lo cual se realizo la corrección y luego se unificaron criterios respecto a distintas rutas, autovias y autopistas de modo que el analisis pueda ser mas sencillo."
      ],
      "metadata": {
        "id": "0ecMRPHob1NX"
      }
    },
    {
      "cell_type": "code",
      "source": [
        "# Se limpian valores duplicados no detectados debido a diferentes formas de escribirlos\n",
        "print(\"Valores unicos antes de limpieza: \",df[\"desc_ruta\"].nunique())\n",
        "df.loc[df['desc_ruta'].str.contains('Brigadier', na=False), 'desc_ruta'] = \"Autopista Provincial Brigadier E.López\"\n",
        "df.loc[df['desc_ruta'].str.contains('Cordoba', na=False), 'desc_ruta'] = \"Autopista Nacional Rosario-Cordoba\"\n",
        "df.loc[df['desc_ruta'].str.contains('Valle', na=False), 'desc_ruta'] = \"Autovía Nacional Gral. Juan Jose Valle\"\n",
        "df.loc[df['desc_ruta'].str.contains('Trebol', na=False), 'desc_ruta'] = \"Ruta Provincial Trebol SE\"\n",
        "df.loc[df['desc_ruta'].str.contains('11', na=False), 'desc_ruta'] = \"Ruta Nacional 11\"\n",
        "df.loc[df['desc_ruta'].str.contains('17', na=False), 'desc_ruta'] = \"Ruta Nacional 17\"\n",
        "df.loc[df['desc_ruta'].str.contains('19', na=False), 'desc_ruta'] = \"Ruta Nacional 19\"\n",
        "df.loc[df['desc_ruta'].str.contains('21', na=False), 'desc_ruta'] = \"Ruta Nacional 21\"\n",
        "df.loc[df['desc_ruta'].str.contains('34', na=False), 'desc_ruta'] = \"Ruta Nacional 34\"\n",
        "df.loc[df['desc_ruta'].str.contains('49', na=False), 'desc_ruta'] = \"Ruta Nacional 49\"\n",
        "df['desc_ruta'] = df['desc_ruta'].str.replace('Autov?a', 'Autovía', regex= False)\n",
        "df['desc_ruta'] = df['desc_ruta'].str.replace('AutovÍa', 'Autovía', regex= False)\n",
        "df['desc_ruta'] = df['desc_ruta'].str.replace('S/D', 'Ruta', regex= False)\n",
        "print(\"Valores unicos despues de limpieza: \",df[\"desc_ruta\"].nunique())"
      ],
      "metadata": {
        "colab": {
          "base_uri": "https://localhost:8080/"
        },
        "id": "6yw7uZilB53p",
        "outputId": "3fb9a982-5b95-4dde-f1fc-e638f4d68b18"
      },
      "execution_count": null,
      "outputs": [
        {
          "output_type": "stream",
          "name": "stdout",
          "text": [
            "Valores unicos antes de limpieza:  218\n",
            "Valores unicos despues de limpieza:  165\n"
          ]
        }
      ]
    },
    {
      "cell_type": "markdown",
      "source": [
        "**Modificaciones Columna \"desc_restriccion\", \"desc_tipo_hecho\", \"desc_prioridad\",\"desc_dpto\" **\n",
        "\n",
        "Se detectaron error tipográficos en los datos y se procede a limpiarlos."
      ],
      "metadata": {
        "id": "ajnnCDwZQLYz"
      }
    },
    {
      "cell_type": "code",
      "source": [
        "df['desc_restriccion'] = df['desc_restriccion'].str.replace('Construcci�n', 'Construcción', regex= False)\n",
        "df['desc_restriccion'] = df['desc_restriccion'].str.replace('Desv�o', 'Desvío', regex= False)\n",
        "df.loc[df['desc_restriccion'].str.contains('Reparaci', na=False), 'desc_restriccion'] = \"Reparación de Vía\""
      ],
      "metadata": {
        "id": "npbhMayjHFoX"
      },
      "execution_count": null,
      "outputs": []
    },
    {
      "cell_type": "code",
      "source": [
        "df['desc_tipo_hecho'] = df['desc_tipo_hecho'].str.replace('Colisi?n', 'Colisión', regex= False)\n",
        "df['desc_tipo_hecho'] = df['desc_tipo_hecho'].str.replace('Cañda', 'Caída', regex= False)\n",
        "df['desc_tipo_hecho'] = df['desc_tipo_hecho'].str.replace('Inmersi�n', 'Inmersión', regex= False)\n",
        "df['desc_tipo_hecho'] = df['desc_tipo_hecho'].str.replace('Despe?amiento', 'Despeñamiento', regex= False)\n",
        "df['desc_tipo_hecho'] = df['desc_tipo_hecho'].str.replace('DesPeñamiento', 'Despeñamiento', regex= False)"
      ],
      "metadata": {
        "id": "VTC1TjCMHFlv"
      },
      "execution_count": null,
      "outputs": []
    },
    {
      "cell_type": "code",
      "source": [
        "df['desc_prioridad'] = df['desc_prioridad'].str.replace('Polic�a de tr�nsito', 'Policía de tránsito', regex= False)\n"
      ],
      "metadata": {
        "id": "EC9CAcmZHFfv"
      },
      "execution_count": null,
      "outputs": []
    },
    {
      "cell_type": "code",
      "source": [
        "df['desc_dpto'] = df['desc_dpto'].str.title()\n",
        "df['desc_loc'] = df['desc_loc'].str.title()\n",
        "df['desc_tipo_via'] = df['desc_tipo_via'].str.title()"
      ],
      "metadata": {
        "id": "xEVH9d9FHFXX"
      },
      "execution_count": null,
      "outputs": []
    },
    {
      "cell_type": "markdown",
      "source": [
        "# ALMACENAMIENTOS DATOS LIMPIOS"
      ],
      "metadata": {
        "id": "qcQ6k3QhRnMC"
      }
    },
    {
      "cell_type": "code",
      "source": [
        "df.to_csv(\"Siniestros_limpio.csv\", sep= \";\")"
      ],
      "metadata": {
        "id": "ltBUfzdRHFOP"
      },
      "execution_count": null,
      "outputs": []
    }
  ]
}